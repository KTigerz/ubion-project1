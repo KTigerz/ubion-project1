{
 "cells": [
  {
   "attachments": {},
   "cell_type": "markdown",
   "metadata": {},
   "source": [
    "## 영화진흥위원회 OPENAPI로 배우데이터 불러오기"
   ]
  },
  {
   "cell_type": "code",
   "execution_count": 48,
   "metadata": {},
   "outputs": [],
   "source": [
    "# openapi 함수\n",
    "import requests\n",
    "import json\n",
    "\n",
    "def get_movieInfo(movieCd):\n",
    "    url = 'http://www.kobis.or.kr/kobisopenapi/webservice/rest/movie/searchMovieInfo.json?key=001a81c336fe1093a7b65899f0c4e9d4&movieCd='+str(movieCd)\n",
    "    res = requests.get(url)\n",
    "    text = res.text\n",
    "    #print(text)\n",
    "    \n",
    "    d = json.loads(text)\n",
    "\n",
    "    movieInfo = d['movieInfoResult']['movieInfo']\n",
    "\n",
    "    return movieInfo"
   ]
  },
  {
   "cell_type": "code",
   "execution_count": 49,
   "metadata": {},
   "outputs": [],
   "source": [
    "# import\n",
    "import numpy as np\n",
    "import pandas as pd\n",
    "import warnings\n",
    "warnings.filterwarnings(action='ignore')"
   ]
  },
  {
   "cell_type": "code",
   "execution_count": 50,
   "metadata": {},
   "outputs": [],
   "source": [
    "total = pd.read_csv('./datasets/배우감독파생변수용.csv')"
   ]
  },
  {
   "cell_type": "code",
   "execution_count": 46,
   "metadata": {},
   "outputs": [],
   "source": [
    "## 대표코드 리스트\n",
    "list = total['대표코드'].tolist()"
   ]
  },
  {
   "cell_type": "code",
   "execution_count": null,
   "metadata": {},
   "outputs": [],
   "source": [
    "# 전체 데이터 914개의 영화 별 배우데이터 불러오는 함수\n",
    "b = []\n",
    "for i in list:\n",
    "    movieInfo = get_movieInfo(i)\n",
    "    a = movieInfo[\"actors\"]\n",
    "    a_1 = pd.DataFrame(a)\n",
    "    b.append(a_1)"
   ]
  },
  {
   "cell_type": "code",
   "execution_count": null,
   "metadata": {},
   "outputs": [],
   "source": [
    "# kk = []\n",
    "# for i in range(815, len(b)):\n",
    "#     print(i)\n",
    "#     bb = b[i]['peopleNm']\n",
    "#     kk.append(bb)"
   ]
  },
  {
   "cell_type": "code",
   "execution_count": 24,
   "metadata": {},
   "outputs": [],
   "source": [
    "# 배우 데이터가 없는 컬럼 확인 후 빈 컬럼값 생성\n",
    "b[408] = pd.DataFrame(columns = ['peopleNm','peopleNmEn', 'cast', 'castEn'])\n",
    "b[604] = pd.DataFrame(columns = ['peopleNm','peopleNmEn', 'cast', 'castEn'])\n",
    "b[637] = pd.DataFrame(columns = ['peopleNm','peopleNmEn', 'cast', 'castEn'])\n",
    "b[682] = pd.DataFrame(columns = ['peopleNm','peopleNmEn', 'cast', 'castEn'])\n",
    "b[714] = pd.DataFrame(columns = ['peopleNm','peopleNmEn', 'cast', 'castEn'])\n",
    "b[715] = pd.DataFrame(columns = ['peopleNm','peopleNmEn', 'cast', 'castEn'])\n",
    "b[766] = pd.DataFrame(columns = ['peopleNm','peopleNmEn', 'cast', 'castEn'])\n",
    "b[814] = pd.DataFrame(columns = ['peopleNm','peopleNmEn', 'cast', 'castEn'])\n",
    "b[896] = pd.DataFrame(columns = ['peopleNm','peopleNmEn', 'cast', 'castEn'])"
   ]
  },
  {
   "cell_type": "code",
   "execution_count": 20,
   "metadata": {},
   "outputs": [],
   "source": [
    "# b[232] = pd.DataFrame(columns = ['peopleNm','peopleNmEn', 'cast', 'castEn'])\n",
    "# b[321] = pd.DataFrame(columns = ['peopleNm','peopleNmEn', 'cast', 'castEn'])\n",
    "# b[415] = pd.DataFrame(columns = ['peopleNm','peopleNmEn', 'cast', 'castEn'])\n",
    "# b[610] = pd.DataFrame(columns = ['peopleNm','peopleNmEn', 'cast', 'castEn'])\n",
    "# b[642] = pd.DataFrame(columns = ['peopleNm','peopleNmEn', 'cast', 'castEn'])\n",
    "# b[687] = pd.DataFrame(columns = ['peopleNm','peopleNmEn', 'cast', 'castEn'])\n",
    "# b[719] = pd.DataFrame(columns = ['peopleNm','peopleNmEn', 'cast', 'castEn'])\n",
    "# b[720] = pd.DataFrame(columns = ['peopleNm','peopleNmEn', 'cast', 'castEn'])\n",
    "# b[751] = pd.DataFrame(columns = ['peopleNm','peopleNmEn', 'cast', 'castEn'])\n",
    "# b[773] = pd.DataFrame(columns = ['peopleNm','peopleNmEn', 'cast', 'castEn'])\n",
    "# b[822] = pd.DataFrame(columns = ['peopleNm','peopleNmEn', 'cast', 'castEn'])\n",
    "# b[902] = pd.DataFrame(columns = ['peopleNm','peopleNmEn', 'cast', 'castEn'])"
   ]
  },
  {
   "cell_type": "code",
   "execution_count": 604,
   "metadata": {},
   "outputs": [],
   "source": [
    "# kk = []\n",
    "# for i in range(0, len(b)):\n",
    "#     print(i)\n",
    "#     bb = b[i]['peopleNm']\n",
    "#     kk.append(bb)"
   ]
  },
  {
   "cell_type": "code",
   "execution_count": 25,
   "metadata": {},
   "outputs": [],
   "source": [
    "# 배우데이터중 배우한글데이터 + 상위 10개 배우만 추출하겠다.\n",
    "kkk =[]\n",
    "for i in range(0, len(b)):\n",
    "    array_1 = np.array(b[i]['peopleNm'].iloc[:10])\n",
    "    kkk.append(array_1)"
   ]
  },
  {
   "cell_type": "code",
   "execution_count": 26,
   "metadata": {},
   "outputs": [],
   "source": [
    "# 데이터프레임에 저장\n",
    "data = pd.DataFrame(kkk)"
   ]
  },
  {
   "cell_type": "code",
   "execution_count": 34,
   "metadata": {},
   "outputs": [],
   "source": [
    "actor_top3 = data.iloc[:,:3]"
   ]
  },
  {
   "cell_type": "code",
   "execution_count": 36,
   "metadata": {},
   "outputs": [],
   "source": [
    "actor_top3.to_csv('./datasets/배우.csv')"
   ]
  },
  {
   "cell_type": "code",
   "execution_count": 14,
   "metadata": {},
   "outputs": [],
   "source": [
    "actor_top3 = df"
   ]
  },
  {
   "cell_type": "code",
   "execution_count": 4,
   "metadata": {},
   "outputs": [
    {
     "data": {
      "text/html": [
       "<div>\n",
       "<style scoped>\n",
       "    .dataframe tbody tr th:only-of-type {\n",
       "        vertical-align: middle;\n",
       "    }\n",
       "\n",
       "    .dataframe tbody tr th {\n",
       "        vertical-align: top;\n",
       "    }\n",
       "\n",
       "    .dataframe thead th {\n",
       "        text-align: right;\n",
       "    }\n",
       "</style>\n",
       "<table border=\"1\" class=\"dataframe\">\n",
       "  <thead>\n",
       "    <tr style=\"text-align: right;\">\n",
       "      <th></th>\n",
       "      <th>0</th>\n",
       "      <th>1</th>\n",
       "      <th>2</th>\n",
       "    </tr>\n",
       "  </thead>\n",
       "  <tbody>\n",
       "    <tr>\n",
       "      <th>0</th>\n",
       "      <td>최민식</td>\n",
       "      <td>류승룡</td>\n",
       "      <td>조진웅</td>\n",
       "    </tr>\n",
       "    <tr>\n",
       "      <th>1</th>\n",
       "      <td>류승룡</td>\n",
       "      <td>이하늬</td>\n",
       "      <td>진선규</td>\n",
       "    </tr>\n",
       "    <tr>\n",
       "      <th>2</th>\n",
       "      <td>하정우</td>\n",
       "      <td>차태현</td>\n",
       "      <td>주지훈</td>\n",
       "    </tr>\n",
       "    <tr>\n",
       "      <th>3</th>\n",
       "      <td>황정민</td>\n",
       "      <td>김윤진</td>\n",
       "      <td>오달수</td>\n",
       "    </tr>\n",
       "    <tr>\n",
       "      <th>4</th>\n",
       "      <td>로버트 다우니 주니어</td>\n",
       "      <td>크리스 에반스</td>\n",
       "      <td>마크 러팔로</td>\n",
       "    </tr>\n",
       "    <tr>\n",
       "      <th>...</th>\n",
       "      <td>...</td>\n",
       "      <td>...</td>\n",
       "      <td>...</td>\n",
       "    </tr>\n",
       "    <tr>\n",
       "      <th>912</th>\n",
       "      <td>톰 행크스</td>\n",
       "      <td>마크 라이런스</td>\n",
       "      <td>오스틴 스토웰</td>\n",
       "    </tr>\n",
       "    <tr>\n",
       "      <th>913</th>\n",
       "      <td>마동석</td>\n",
       "      <td>조한선</td>\n",
       "      <td>김민경</td>\n",
       "    </tr>\n",
       "    <tr>\n",
       "      <th>914</th>\n",
       "      <td>데이비드 코에너</td>\n",
       "      <td>NaN</td>\n",
       "      <td>NaN</td>\n",
       "    </tr>\n",
       "    <tr>\n",
       "      <th>915</th>\n",
       "      <td>잭 오코넬</td>\n",
       "      <td>도널 글리슨</td>\n",
       "      <td>가렛 헤드룬드</td>\n",
       "    </tr>\n",
       "    <tr>\n",
       "      <th>916</th>\n",
       "      <td>조셉 고든 레빗</td>\n",
       "      <td>벤 킹슬리</td>\n",
       "      <td>샬롯 르 본</td>\n",
       "    </tr>\n",
       "  </tbody>\n",
       "</table>\n",
       "<p>917 rows × 3 columns</p>\n",
       "</div>"
      ],
      "text/plain": [
       "               0        1        2\n",
       "0            최민식      류승룡      조진웅\n",
       "1            류승룡      이하늬      진선규\n",
       "2            하정우      차태현      주지훈\n",
       "3            황정민      김윤진      오달수\n",
       "4    로버트 다우니 주니어  크리스 에반스   마크 러팔로\n",
       "..           ...      ...      ...\n",
       "912        톰 행크스  마크 라이런스  오스틴 스토웰\n",
       "913          마동석      조한선      김민경\n",
       "914     데이비드 코에너      NaN      NaN\n",
       "915        잭 오코넬   도널 글리슨  가렛 헤드룬드\n",
       "916     조셉 고든 레빗    벤 킹슬리   샬롯 르 본\n",
       "\n",
       "[917 rows x 3 columns]"
      ]
     },
     "execution_count": 4,
     "metadata": {},
     "output_type": "execute_result"
    }
   ],
   "source": [
    "df = pd.read_csv('./datasets/배우.csv', index_col=0)\n",
    "df"
   ]
  },
  {
   "cell_type": "code",
   "execution_count": 7,
   "metadata": {},
   "outputs": [],
   "source": [
    "# 0~2 컬럼 value_counts 값\n",
    "a = df['0'].value_counts()\n",
    "b = df['1'].value_counts()\n",
    "c = df['2'].value_counts()"
   ]
  },
  {
   "cell_type": "code",
   "execution_count": 8,
   "metadata": {},
   "outputs": [],
   "source": [
    "# 데이터프레임화\n",
    "a = pd.DataFrame(a)\n",
    "b = pd.DataFrame(b)\n",
    "c = pd.DataFrame(c)"
   ]
  },
  {
   "cell_type": "code",
   "execution_count": 9,
   "metadata": {},
   "outputs": [],
   "source": [
    "# a,b concat\n",
    "ab = pd.concat([a,b], axis=1)"
   ]
  },
  {
   "cell_type": "code",
   "execution_count": 10,
   "metadata": {},
   "outputs": [],
   "source": [
    "# ab,c concat\n",
    "abc = pd.concat([ab,c], axis=1)"
   ]
  },
  {
   "cell_type": "code",
   "execution_count": 11,
   "metadata": {},
   "outputs": [],
   "source": [
    "# 영화별 배우 출현 횟수 총 합\n",
    "aaa = abc.T.sum().sort_values(ascending=False)"
   ]
  },
  {
   "cell_type": "code",
   "execution_count": 12,
   "metadata": {},
   "outputs": [
    {
     "data": {
      "text/html": [
       "<div>\n",
       "<style scoped>\n",
       "    .dataframe tbody tr th:only-of-type {\n",
       "        vertical-align: middle;\n",
       "    }\n",
       "\n",
       "    .dataframe tbody tr th {\n",
       "        vertical-align: top;\n",
       "    }\n",
       "\n",
       "    .dataframe thead th {\n",
       "        text-align: right;\n",
       "    }\n",
       "</style>\n",
       "<table border=\"1\" class=\"dataframe\">\n",
       "  <thead>\n",
       "    <tr style=\"text-align: right;\">\n",
       "      <th></th>\n",
       "      <th>0</th>\n",
       "    </tr>\n",
       "  </thead>\n",
       "  <tbody>\n",
       "    <tr>\n",
       "      <th>마동석</th>\n",
       "      <td>16.0</td>\n",
       "    </tr>\n",
       "    <tr>\n",
       "      <th>하정우</th>\n",
       "      <td>16.0</td>\n",
       "    </tr>\n",
       "    <tr>\n",
       "      <th>황정민</th>\n",
       "      <td>15.0</td>\n",
       "    </tr>\n",
       "    <tr>\n",
       "      <th>조진웅</th>\n",
       "      <td>15.0</td>\n",
       "    </tr>\n",
       "    <tr>\n",
       "      <th>류승룡</th>\n",
       "      <td>14.0</td>\n",
       "    </tr>\n",
       "    <tr>\n",
       "      <th>...</th>\n",
       "      <td>...</td>\n",
       "    </tr>\n",
       "    <tr>\n",
       "      <th>소피아 블랙 디엘리아</th>\n",
       "      <td>1.0</td>\n",
       "    </tr>\n",
       "    <tr>\n",
       "      <th>브렌튼 스웨이츠</th>\n",
       "      <td>1.0</td>\n",
       "    </tr>\n",
       "    <tr>\n",
       "      <th>장쯔이</th>\n",
       "      <td>1.0</td>\n",
       "    </tr>\n",
       "    <tr>\n",
       "      <th>세바스찬 냅</th>\n",
       "      <td>1.0</td>\n",
       "    </tr>\n",
       "    <tr>\n",
       "      <th>샬롯 르 본</th>\n",
       "      <td>1.0</td>\n",
       "    </tr>\n",
       "  </tbody>\n",
       "</table>\n",
       "<p>1247 rows × 1 columns</p>\n",
       "</div>"
      ],
      "text/plain": [
       "                0\n",
       "마동석          16.0\n",
       "하정우          16.0\n",
       "황정민          15.0\n",
       "조진웅          15.0\n",
       "류승룡          14.0\n",
       "...           ...\n",
       "소피아 블랙 디엘리아   1.0\n",
       "브렌튼 스웨이츠      1.0\n",
       "장쯔이           1.0\n",
       "세바스찬 냅        1.0\n",
       "샬롯 르 본        1.0\n",
       "\n",
       "[1247 rows x 1 columns]"
      ]
     },
     "execution_count": 12,
     "metadata": {},
     "output_type": "execute_result"
    }
   ],
   "source": [
    "# 데이터프레임화\n",
    "aaa = pd.DataFrame(aaa)\n",
    "aaa"
   ]
  },
  {
   "cell_type": "code",
   "execution_count": 15,
   "metadata": {},
   "outputs": [],
   "source": [
    "for i in range(1247):\n",
    "    for j in range(917):\n",
    "        if actor_top3['0'].values[j] == aaa.index[i]:\n",
    "           actor_top3['0'].values[j] = int(aaa.values[i])\n",
    "\n",
    "for i in range(1247):\n",
    "    for j in range(917):\n",
    "        if actor_top3['1'].values[j] == aaa.index[i]:\n",
    "           actor_top3['1'].values[j] = int(aaa.values[i])\n",
    "        \n",
    "for i in range(1247):\n",
    "    for j in range(917):\n",
    "        if actor_top3['2'].values[j] == aaa.index[i]:\n",
    "           actor_top3['2'].values[j] = int(aaa.values[i])"
   ]
  },
  {
   "cell_type": "code",
   "execution_count": 16,
   "metadata": {},
   "outputs": [
    {
     "data": {
      "text/html": [
       "<div>\n",
       "<style scoped>\n",
       "    .dataframe tbody tr th:only-of-type {\n",
       "        vertical-align: middle;\n",
       "    }\n",
       "\n",
       "    .dataframe tbody tr th {\n",
       "        vertical-align: top;\n",
       "    }\n",
       "\n",
       "    .dataframe thead th {\n",
       "        text-align: right;\n",
       "    }\n",
       "</style>\n",
       "<table border=\"1\" class=\"dataframe\">\n",
       "  <thead>\n",
       "    <tr style=\"text-align: right;\">\n",
       "      <th></th>\n",
       "      <th>0</th>\n",
       "      <th>1</th>\n",
       "      <th>2</th>\n",
       "    </tr>\n",
       "  </thead>\n",
       "  <tbody>\n",
       "    <tr>\n",
       "      <th>0</th>\n",
       "      <td>10</td>\n",
       "      <td>14</td>\n",
       "      <td>15</td>\n",
       "    </tr>\n",
       "    <tr>\n",
       "      <th>1</th>\n",
       "      <td>14</td>\n",
       "      <td>5</td>\n",
       "      <td>2</td>\n",
       "    </tr>\n",
       "    <tr>\n",
       "      <th>2</th>\n",
       "      <td>16</td>\n",
       "      <td>5</td>\n",
       "      <td>6</td>\n",
       "    </tr>\n",
       "    <tr>\n",
       "      <th>3</th>\n",
       "      <td>15</td>\n",
       "      <td>4</td>\n",
       "      <td>10</td>\n",
       "    </tr>\n",
       "    <tr>\n",
       "      <th>4</th>\n",
       "      <td>9</td>\n",
       "      <td>6</td>\n",
       "      <td>7</td>\n",
       "    </tr>\n",
       "    <tr>\n",
       "      <th>...</th>\n",
       "      <td>...</td>\n",
       "      <td>...</td>\n",
       "      <td>...</td>\n",
       "    </tr>\n",
       "    <tr>\n",
       "      <th>912</th>\n",
       "      <td>6</td>\n",
       "      <td>3</td>\n",
       "      <td>1</td>\n",
       "    </tr>\n",
       "    <tr>\n",
       "      <th>913</th>\n",
       "      <td>16</td>\n",
       "      <td>2</td>\n",
       "      <td>1</td>\n",
       "    </tr>\n",
       "    <tr>\n",
       "      <th>914</th>\n",
       "      <td>1</td>\n",
       "      <td>NaN</td>\n",
       "      <td>NaN</td>\n",
       "    </tr>\n",
       "    <tr>\n",
       "      <th>915</th>\n",
       "      <td>1</td>\n",
       "      <td>4</td>\n",
       "      <td>2</td>\n",
       "    </tr>\n",
       "    <tr>\n",
       "      <th>916</th>\n",
       "      <td>2</td>\n",
       "      <td>3</td>\n",
       "      <td>1</td>\n",
       "    </tr>\n",
       "  </tbody>\n",
       "</table>\n",
       "<p>917 rows × 3 columns</p>\n",
       "</div>"
      ],
      "text/plain": [
       "      0    1    2\n",
       "0    10   14   15\n",
       "1    14    5    2\n",
       "2    16    5    6\n",
       "3    15    4   10\n",
       "4     9    6    7\n",
       "..   ..  ...  ...\n",
       "912   6    3    1\n",
       "913  16    2    1\n",
       "914   1  NaN  NaN\n",
       "915   1    4    2\n",
       "916   2    3    1\n",
       "\n",
       "[917 rows x 3 columns]"
      ]
     },
     "execution_count": 16,
     "metadata": {},
     "output_type": "execute_result"
    }
   ],
   "source": [
    "actor_top3"
   ]
  },
  {
   "cell_type": "code",
   "execution_count": 17,
   "metadata": {},
   "outputs": [],
   "source": [
    "배우가중치 = pd.DataFrame(actor_top3.T.sum())"
   ]
  },
  {
   "cell_type": "code",
   "execution_count": 18,
   "metadata": {},
   "outputs": [],
   "source": [
    "배우가중치.columns = ['배우가중치']"
   ]
  },
  {
   "cell_type": "code",
   "execution_count": 19,
   "metadata": {},
   "outputs": [
    {
     "data": {
      "text/html": [
       "<div>\n",
       "<style scoped>\n",
       "    .dataframe tbody tr th:only-of-type {\n",
       "        vertical-align: middle;\n",
       "    }\n",
       "\n",
       "    .dataframe tbody tr th {\n",
       "        vertical-align: top;\n",
       "    }\n",
       "\n",
       "    .dataframe thead th {\n",
       "        text-align: right;\n",
       "    }\n",
       "</style>\n",
       "<table border=\"1\" class=\"dataframe\">\n",
       "  <thead>\n",
       "    <tr style=\"text-align: right;\">\n",
       "      <th></th>\n",
       "      <th>배우가중치</th>\n",
       "    </tr>\n",
       "  </thead>\n",
       "  <tbody>\n",
       "    <tr>\n",
       "      <th>0</th>\n",
       "      <td>39</td>\n",
       "    </tr>\n",
       "    <tr>\n",
       "      <th>1</th>\n",
       "      <td>21</td>\n",
       "    </tr>\n",
       "    <tr>\n",
       "      <th>2</th>\n",
       "      <td>27</td>\n",
       "    </tr>\n",
       "    <tr>\n",
       "      <th>3</th>\n",
       "      <td>29</td>\n",
       "    </tr>\n",
       "    <tr>\n",
       "      <th>4</th>\n",
       "      <td>22</td>\n",
       "    </tr>\n",
       "    <tr>\n",
       "      <th>...</th>\n",
       "      <td>...</td>\n",
       "    </tr>\n",
       "    <tr>\n",
       "      <th>912</th>\n",
       "      <td>10</td>\n",
       "    </tr>\n",
       "    <tr>\n",
       "      <th>913</th>\n",
       "      <td>19</td>\n",
       "    </tr>\n",
       "    <tr>\n",
       "      <th>914</th>\n",
       "      <td>1</td>\n",
       "    </tr>\n",
       "    <tr>\n",
       "      <th>915</th>\n",
       "      <td>7</td>\n",
       "    </tr>\n",
       "    <tr>\n",
       "      <th>916</th>\n",
       "      <td>6</td>\n",
       "    </tr>\n",
       "  </tbody>\n",
       "</table>\n",
       "<p>917 rows × 1 columns</p>\n",
       "</div>"
      ],
      "text/plain": [
       "    배우가중치\n",
       "0      39\n",
       "1      21\n",
       "2      27\n",
       "3      29\n",
       "4      22\n",
       "..    ...\n",
       "912    10\n",
       "913    19\n",
       "914     1\n",
       "915     7\n",
       "916     6\n",
       "\n",
       "[917 rows x 1 columns]"
      ]
     },
     "execution_count": 19,
     "metadata": {},
     "output_type": "execute_result"
    }
   ],
   "source": [
    "배우가중치"
   ]
  },
  {
   "cell_type": "code",
   "execution_count": 20,
   "metadata": {},
   "outputs": [],
   "source": [
    "total = pd.read_csv('./datasets/배우감독파생변수용.csv')"
   ]
  },
  {
   "cell_type": "code",
   "execution_count": 26,
   "metadata": {},
   "outputs": [],
   "source": [
    "ls = []\n",
    "\n",
    "for i in range(917):\n",
    "    if total['전국 관객수'][i] >= 10000000:\n",
    "        ls.append(1)\n",
    "    elif (total['전국 관객수'][i] < 10000000) and (total['전국 관객수'][i] >= 5000000):\n",
    "        ls.append(10)\n",
    "    elif (total['전국 관객수'][i] < 5000000) and (total['전국 관객수'][i] >= 1000000):\n",
    "        ls.append(20)\n",
    "    else:\n",
    "        ls.append(30)"
   ]
  },
  {
   "cell_type": "code",
   "execution_count": 29,
   "metadata": {},
   "outputs": [],
   "source": [
    "가중치값 = pd.DataFrame(ls)\n",
    "가중치값.columns = ['가중치값']"
   ]
  },
  {
   "cell_type": "code",
   "execution_count": 34,
   "metadata": {},
   "outputs": [],
   "source": [
    "배우data = pd.concat([배우가중치, 가중치값], axis=1)"
   ]
  },
  {
   "cell_type": "code",
   "execution_count": 37,
   "metadata": {},
   "outputs": [],
   "source": [
    "배우가중치['배우가중치'] = 배우data['배우가중치'] / 배우data['가중치값']"
   ]
  },
  {
   "cell_type": "code",
   "execution_count": 38,
   "metadata": {},
   "outputs": [
    {
     "data": {
      "text/html": [
       "<div>\n",
       "<style scoped>\n",
       "    .dataframe tbody tr th:only-of-type {\n",
       "        vertical-align: middle;\n",
       "    }\n",
       "\n",
       "    .dataframe tbody tr th {\n",
       "        vertical-align: top;\n",
       "    }\n",
       "\n",
       "    .dataframe thead th {\n",
       "        text-align: right;\n",
       "    }\n",
       "</style>\n",
       "<table border=\"1\" class=\"dataframe\">\n",
       "  <thead>\n",
       "    <tr style=\"text-align: right;\">\n",
       "      <th></th>\n",
       "      <th>배우가중치</th>\n",
       "    </tr>\n",
       "  </thead>\n",
       "  <tbody>\n",
       "    <tr>\n",
       "      <th>0</th>\n",
       "      <td>39.0</td>\n",
       "    </tr>\n",
       "    <tr>\n",
       "      <th>1</th>\n",
       "      <td>21.0</td>\n",
       "    </tr>\n",
       "    <tr>\n",
       "      <th>2</th>\n",
       "      <td>27.0</td>\n",
       "    </tr>\n",
       "    <tr>\n",
       "      <th>3</th>\n",
       "      <td>29.0</td>\n",
       "    </tr>\n",
       "    <tr>\n",
       "      <th>4</th>\n",
       "      <td>22.0</td>\n",
       "    </tr>\n",
       "    <tr>\n",
       "      <th>...</th>\n",
       "      <td>...</td>\n",
       "    </tr>\n",
       "    <tr>\n",
       "      <th>912</th>\n",
       "      <td>0.333333</td>\n",
       "    </tr>\n",
       "    <tr>\n",
       "      <th>913</th>\n",
       "      <td>0.633333</td>\n",
       "    </tr>\n",
       "    <tr>\n",
       "      <th>914</th>\n",
       "      <td>0.033333</td>\n",
       "    </tr>\n",
       "    <tr>\n",
       "      <th>915</th>\n",
       "      <td>0.233333</td>\n",
       "    </tr>\n",
       "    <tr>\n",
       "      <th>916</th>\n",
       "      <td>0.2</td>\n",
       "    </tr>\n",
       "  </tbody>\n",
       "</table>\n",
       "<p>917 rows × 1 columns</p>\n",
       "</div>"
      ],
      "text/plain": [
       "        배우가중치\n",
       "0        39.0\n",
       "1        21.0\n",
       "2        27.0\n",
       "3        29.0\n",
       "4        22.0\n",
       "..        ...\n",
       "912  0.333333\n",
       "913  0.633333\n",
       "914  0.033333\n",
       "915  0.233333\n",
       "916       0.2\n",
       "\n",
       "[917 rows x 1 columns]"
      ]
     },
     "execution_count": 38,
     "metadata": {},
     "output_type": "execute_result"
    }
   ],
   "source": [
    "배우가중치"
   ]
  },
  {
   "cell_type": "code",
   "execution_count": 39,
   "metadata": {},
   "outputs": [],
   "source": [
    "배우가중치.to_csv('./datasets/배우가중치.csv')"
   ]
  },
  {
   "cell_type": "code",
   "execution_count": null,
   "metadata": {},
   "outputs": [],
   "source": []
  }
 ],
 "metadata": {
  "kernelspec": {
   "display_name": "Python 3",
   "language": "python",
   "name": "python3"
  },
  "language_info": {
   "codemirror_mode": {
    "name": "ipython",
    "version": 3
   },
   "file_extension": ".py",
   "mimetype": "text/x-python",
   "name": "python",
   "nbconvert_exporter": "python",
   "pygments_lexer": "ipython3",
   "version": "3.11.1"
  },
  "orig_nbformat": 4
 },
 "nbformat": 4,
 "nbformat_minor": 2
}
